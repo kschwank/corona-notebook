{
 "cells": [
  {
   "cell_type": "code",
   "execution_count": null,
   "metadata": {},
   "outputs": [],
   "source": [
    "import pandas as pd\n",
    "import matplotlib.pyplot as plt\n",
    "import numpy as np\n",
    "import json\n",
    "import requests"
   ]
  },
  {
   "cell_type": "code",
   "execution_count": null,
   "metadata": {},
   "outputs": [],
   "source": [
    "import seaborn as sns\n",
    "sns.set_style(\"whitegrid\")\n",
    "\n",
    "%matplotlib inline"
   ]
  },
  {
   "cell_type": "code",
   "execution_count": null,
   "metadata": {},
   "outputs": [],
   "source": [
    "url = 'https://pomber.github.io/covid19/timeseries.json'\n",
    "with requests.get(url) as filedata:\n",
    "    data = json.loads(filedata.content)"
   ]
  },
  {
   "cell_type": "markdown",
   "metadata": {},
   "source": [
    "structure example:\n",
    "> ```json\n",
    "{\n",
    "  \"Afghanistan\": [\n",
    "    {\n",
    "      \"date\": \"2020-1-22\",\n",
    "      \"confirmed\": 0,\n",
    "      \"deaths\": 0,\n",
    "      \"recovered\": 0\n",
    "    },\n",
    "    ...\n",
    "  ]\n",
    "  ...\n",
    "}\n",
    "```"
   ]
  },
  {
   "cell_type": "code",
   "execution_count": null,
   "metadata": {},
   "outputs": [],
   "source": [
    "country = 'Germany' # e.g., 'US', 'Italy', 'Philippines'\n",
    "averages = 14\n",
    "\n",
    "df = pd.json_normalize(data, record_path=country)\n",
    "df['date'] = pd.to_datetime(df['date'])\n",
    "df = df.set_index('date')\n",
    "\n",
    "df['dt'] = np.gradient(df.get('confirmed'))\n",
    "df['dt2'] = np.gradient(df.get('dt','confirmed'))\n",
    "df['removed'] = df['recovered'] + df['deaths']\n",
    "df['active'] = df['confirmed'] - df['recovered'] - df['deaths']"
   ]
  },
  {
   "cell_type": "code",
   "execution_count": null,
   "metadata": {},
   "outputs": [],
   "source": [
    "sns.set(rc={'figure.figsize':(15,10)})\n",
    "sns.set_style(\"whitegrid\")\n",
    "sns.lineplot(data=df, palette=\"tab10\", linewidth=2.5, dashes=False);"
   ]
  },
  {
   "cell_type": "code",
   "execution_count": null,
   "metadata": {
    "scrolled": true
   },
   "outputs": [],
   "source": [
    "print(\"Total cases [{0}]:           \\n{1}\".format(country, df[-averages:]))\n",
    "print(\"New cases rate [{0}]:        \\n{1}\".format(country, df['dt'][-averages:]))\n",
    "print(\"New cases rate change [{0}]: \\n{1}\".format(country, df['dt2'][-averages:]))\n",
    "print(\"Deaths [{0}]:                \\n{1}\".format(country, df['deaths'][-averages:]))\n",
    "print(\"Removed cases [{0}]:         \\n{1}\".format(country, df['removed'][-averages:]))\n",
    "print(\"Active cases [{0}]:          \\n{1}\".format(country, df['active'][-averages:]))"
   ]
  },
  {
   "cell_type": "code",
   "execution_count": null,
   "metadata": {},
   "outputs": [],
   "source": [
    "intensive_care_capacity = 30000\n",
    "intensive_care_factor = 1/100\n",
    "infection_duration_days = 14\n",
    "\n",
    "N_de = 100000000 # 1387297452 # 331002651 # 83019213\n",
    "I_de = df['active'][-1]\n",
    "R_de = df['removed'][-1]\n",
    "\n",
    "beta_de = np.average(df['dt'][-averages:]) / np.average(df['active'][-averages:])\n",
    "print(\"R (beta): {0}\".format(beta_de))"
   ]
  },
  {
   "cell_type": "code",
   "execution_count": null,
   "metadata": {},
   "outputs": [],
   "source": [
    "import numpy as np\n",
    "from scipy.integrate import odeint\n",
    "import matplotlib.pyplot as plt\n",
    "\n",
    "# Total population, N.\n",
    "N = N_de\n",
    "# Initial number of infected and recovered individuals, I0 and R0.\n",
    "I0, R0 = I_de, R_de\n",
    "# Everyone else, S0, is susceptible to infection initially.\n",
    "S0 = N - I0 - R0\n",
    "# Contact rate, beta, and mean recovery rate, gamma, (in 1/days).\n",
    "beta, gamma = beta_de, 1./infection_duration_days\n",
    "# A grid of time points (in days)\n",
    "t = np.linspace(0, 500, 500)\n",
    "\n",
    "# The SIR model differential equations.\n",
    "def deriv(y, t, N, beta, gamma):\n",
    "    S, I, R = y\n",
    "    dSdt = -beta * S * I / N\n",
    "    dIdt = beta * S * I / N - gamma * I\n",
    "    dRdt = gamma * I\n",
    "    return dSdt, dIdt, dRdt\n",
    "\n",
    "# Initial conditions vector\n",
    "y0 = S0, I0, R0\n",
    "# Integrate the SIR equations over the time grid, t.\n",
    "ret = odeint(deriv, y0, t, args=(N, beta, gamma))\n",
    "S, I, R = ret.T\n",
    "\n",
    "# Plot the data on three separate curves for S(t), I(t) and R(t)\n",
    "fig = plt.figure(facecolor='w')\n",
    "ax = fig.add_subplot(111, axisbelow=True)\n",
    "#ax.plot(t, S, 'b', alpha=0.5, lw=2, label='Susceptible')\n",
    "ax.plot(t, I, 'r', alpha=0.5, lw=2, label='Active Cases')\n",
    "ax.plot(t, R, 'g', alpha=0.5, lw=2, label='Recovered with immunity')\n",
    "ax.set_xlabel('Time /days')\n",
    "ax.set_ylabel('Number')\n",
    "#ax.set_ylim(0,1.2)\n",
    "ax.yaxis.set_tick_params(length=0)\n",
    "ax.xaxis.set_tick_params(length=0)\n",
    "ax.grid(b=True, which='major', c='w', lw=2, ls='-')\n",
    "legend = ax.legend()\n",
    "legend.get_frame().set_alpha(0.5)\n",
    "for spine in ('top', 'right', 'bottom', 'left'):\n",
    "    ax.spines[spine].set_visible(False)\n",
    "plt.show()"
   ]
  },
  {
   "cell_type": "code",
   "execution_count": null,
   "metadata": {},
   "outputs": [],
   "source": [
    "df_pred = pd.DataFrame([df['active'].append(pd.Series(I)), \n",
    "                        df['removed'].append(pd.Series(R))])\n",
    "\n",
    "transposed = df_pred.T\n",
    "transposed.columns=['Active Cases', 'Removed']\n",
    "transposed.reset_index()\n",
    "\n",
    "transposed.plot(figsize=(15,10));"
   ]
  },
  {
   "cell_type": "code",
   "execution_count": null,
   "metadata": {},
   "outputs": [],
   "source": [
    "sns.set(rc={'figure.figsize':(15,10)})\n",
    "sns.set_style(\"whitegrid\")\n",
    "sns.lineplot(data=df['active'], palette=\"tab10\", linewidth=2.5, dashes=False);\n"
   ]
  },
  {
   "cell_type": "code",
   "execution_count": null,
   "metadata": {},
   "outputs": [],
   "source": []
  }
 ],
 "metadata": {
  "kernelspec": {
   "display_name": "Python 3",
   "language": "python",
   "name": "python3"
  },
  "language_info": {
   "codemirror_mode": {
    "name": "ipython",
    "version": 3
   },
   "file_extension": ".py",
   "mimetype": "text/x-python",
   "name": "python",
   "nbconvert_exporter": "python",
   "pygments_lexer": "ipython3",
   "version": "3.7.7"
  }
 },
 "nbformat": 4,
 "nbformat_minor": 2
}
